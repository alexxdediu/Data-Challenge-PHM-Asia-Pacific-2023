{
 "cells": [
  {
   "cell_type": "code",
   "execution_count": 1,
   "metadata": {},
   "outputs": [],
   "source": [
    "import torch\n",
    "from torch import nn,optim\n",
    "import torch.nn.functional\n",
    "import torch.nn.functional as F\n",
    "import numpy as np\n",
    "import pandas as pd\n",
    "import os as os\n",
    "from torch.utils.data import DataLoader\n",
    "import matplotlib.pyplot as plt\n",
    "import seaborn as sns\n",
    "import plotly.express as px\n",
    "import plotly.graph_objects as go\n",
    "from sklearn.model_selection import train_test_split"
   ]
  },
  {
   "cell_type": "code",
   "execution_count": null,
   "metadata": {},
   "outputs": [],
   "source": [
    "path_test= '/Users/alexdediu/git-projects/Data-Challenge-PHM-Asia-Pacific-2023/dataset/test'\n",
    "path_labels_spacecraft = \"/labels_spacecraft.xlsx\"\n",
    "\n",
    "\n",
    "dfs_test = []\n",
    "\n",
    "for filename in os.listdir(path_test+path_data):\n",
    "    if filename.endswith('.csv'):\n",
    "       \n",
    "        percorso_file = os.path.join(path_test+path_data, filename)\n",
    "        df = pd.read_csv(percorso_file)\n",
    "        dfs_test.append(df)\n",
    "\n",
    "df_t = pd.concat(dfs_data, ignore_index=True)\n",
    "\n",
    "df_t"
   ]
  },
  {
   "cell_type": "code",
   "execution_count": null,
   "metadata": {},
   "outputs": [],
   "source": [
    "\n",
    "df_labels_spacecraft = pd.read_excel(path_test+path_labels_spacecraft,header=1)\n",
    "\n",
    "df_labels_spacecraft = df_labels_spacecraft.rename(columns={\"Case#\":\"Case\",\"Spacecraft#\":\"Spacecraft\"}) \n",
    "df_labels_spacecraft"
   ]
  },
  {
   "cell_type": "code",
   "execution_count": 2,
   "metadata": {},
   "outputs": [
    {
     "ename": "NameError",
     "evalue": "name 'dfs_test' is not defined",
     "output_type": "error",
     "traceback": [
      "\u001b[0;31m---------------------------------------------------------------------------\u001b[0m",
      "\u001b[0;31mNameError\u001b[0m                                 Traceback (most recent call last)",
      "Cell \u001b[0;32mIn[2], line 2\u001b[0m\n\u001b[1;32m      1\u001b[0m dfs_ft_test \u001b[38;5;241m=\u001b[39m []\n\u001b[0;32m----> 2\u001b[0m \u001b[38;5;28;01mfor\u001b[39;00m d \u001b[38;5;129;01min\u001b[39;00m \u001b[43mdfs_test\u001b[49m:\n\u001b[1;32m      3\u001b[0m     d\u001b[38;5;241m=\u001b[39md\u001b[38;5;241m.\u001b[39mdrop(\u001b[38;5;124m\"\u001b[39m\u001b[38;5;124mTIME\u001b[39m\u001b[38;5;124m\"\u001b[39m,axis\u001b[38;5;241m=\u001b[39m\u001b[38;5;241m1\u001b[39m)\n\u001b[1;32m      4\u001b[0m     \u001b[38;5;66;03m#desc = d.describe()\u001b[39;00m\n",
      "\u001b[0;31mNameError\u001b[0m: name 'dfs_test' is not defined"
     ]
    }
   ],
   "source": [
    "dfs_ft_test = []\n",
    "for d in dfs_test:\n",
    "    d=d.drop(\"TIME\",axis=1)\n",
    "    #desc = d.describe()\n",
    "    dfs_ft_test.append(pd.DataFrame(d.mean()).T)\n",
    "\n",
    "df_test_complete = pd.concat(dfs_ft_test)\n",
    "\n",
    "df_test_complete = df_test_complete.reset_index()\n",
    "df_test_complete =df_test_complete.drop(\"index\",axis=1)\n",
    "\n",
    "print(len(dfs_ft_test))\n"
   ]
  }
 ],
 "metadata": {
  "kernelspec": {
   "display_name": "pytorch-env",
   "language": "python",
   "name": "python3"
  },
  "language_info": {
   "codemirror_mode": {
    "name": "ipython",
    "version": 3
   },
   "file_extension": ".py",
   "mimetype": "text/x-python",
   "name": "python",
   "nbconvert_exporter": "python",
   "pygments_lexer": "ipython3",
   "version": "3.10.13"
  }
 },
 "nbformat": 4,
 "nbformat_minor": 2
}
