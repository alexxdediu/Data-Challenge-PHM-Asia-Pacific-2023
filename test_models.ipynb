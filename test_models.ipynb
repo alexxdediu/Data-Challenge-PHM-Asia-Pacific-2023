{
 "cells": [
  {
   "cell_type": "code",
   "execution_count": null,
   "metadata": {},
   "outputs": [],
   "source": [
    "X_train, X_test, y_train, y_test = train_test_split(df_X, df_y, test_size=0.33, random_state=42)"
   ]
  },
  {
   "cell_type": "code",
   "execution_count": null,
   "metadata": {},
   "outputs": [],
   "source": [
    "\n",
    "randomForest = RandomForestClassifier(random_state=42)\n",
    "\n",
    "randomForest.fit(X_train, y_train)"
   ]
  },
  {
   "cell_type": "code",
   "execution_count": null,
   "metadata": {},
   "outputs": [],
   "source": [
    "knn_classifier = KNeighborsClassifier(n_neighbors=3)\n",
    "knn_classifier.fit(X_train, y_train)\n",
    "predictions_knn = knn_classifier.predict(X_test)"
   ]
  },
  {
   "cell_type": "code",
   "execution_count": null,
   "metadata": {},
   "outputs": [],
   "source": [
    "accuracy = accuracy_score(y_test.values.flatten(), predictions_knn.flatten())\n",
    "conf_matrix = confusion_matrix(y_test.values.flatten(), predictions_knn.flatten())\n",
    "    \n",
    "print(f\"\\nModel: K-Nearest Neighbors\")\n",
    "print(f\"Accuracy: {accuracy:.4f}\")\n",
    "print(\"Confusion Matrix:\")\n",
    "print(conf_matrix)"
   ]
  },
  {
   "cell_type": "code",
   "execution_count": null,
   "metadata": {},
   "outputs": [],
   "source": [
    "precision = precision_score(y_test.values.flatten(), predictions_knn.flatten(), average='weighted')\n",
    "recall = recall_score(y_test.values.flatten(), predictions_knn.flatten(), average='weighted')\n",
    "f1 = f1_score(y_test.values.flatten(), predictions_knn.flatten(), average='weighted')\n",
    "\n",
    "print(f\"Precision: {precision:.4f}\")\n",
    "print(f\"Recall: {recall:.4f}\")\n",
    "print(f\"F1-score: {f1:.4f}\")\n",
    "\n",
    "class_report = classification_report(y_test.values.flatten(), predictions_knn.flatten())\n",
    "\n",
    "# Visualizza il report di classificazione\n",
    "print(\"Classification Report:\")\n",
    "print(class_report)"
   ]
  },
  {
   "cell_type": "code",
   "execution_count": null,
   "metadata": {},
   "outputs": [],
   "source": [
    "predictions = randomForest.predict(X_test)"
   ]
  },
  {
   "cell_type": "code",
   "execution_count": null,
   "metadata": {},
   "outputs": [],
   "source": [
    "conf_matrix = confusion_matrix(y_test.values.flatten(), predictions.flatten())\n",
    "\n",
    "# Calcola l'accuratezza\n",
    "accuracy = accuracy_score(y_test.values.flatten(), predictions.flatten())\n",
    "\n",
    "# Visualizza la matrice di confusione e l'accuratezza\n",
    "print(\"Matrice di Confusione:\")\n",
    "print(conf_matrix)\n",
    "print(\"\\nAccuratezza:\", accuracy)\n",
    "\n",
    "# Mostra anche una rapida rappresentazione testuale delle metriche di classificazione\n",
    "print(\"\\nReport di classificazione:\")\n",
    "print(classification_report(y_test.values.flatten(), predictions.flatten()))"
   ]
  }
 ],
 "metadata": {
  "language_info": {
   "name": "python"
  }
 },
 "nbformat": 4,
 "nbformat_minor": 2
}
